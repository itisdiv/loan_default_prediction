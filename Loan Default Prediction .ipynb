{
 "cells": [
  {
   "cell_type": "code",
   "execution_count": 1,
   "id": "4bc5e1f4-61f2-4b88-871a-41759100ce79",
   "metadata": {},
   "outputs": [],
   "source": [
    "# Import required libraries\n",
    "import pandas as pd\n",
    "import numpy as np\n",
    "from sklearn.model_selection import train_test_split\n",
    "from sklearn.preprocessing import StandardScaler\n",
    "from sklearn.linear_model import LogisticRegression\n",
    "from sklearn.metrics import accuracy_score, classification_report, confusion_matrix\n",
    "\n",
    "import warnings\n",
    "warnings.filterwarnings('ignore')"
   ]
  },
  {
   "cell_type": "code",
   "execution_count": 2,
   "id": "708904fd-e23e-4a4a-a701-3a2470ddde6e",
   "metadata": {},
   "outputs": [],
   "source": [
    "# Load dataset\n",
    "df = pd.read_csv('credit_data.csv')"
   ]
  },
  {
   "cell_type": "code",
   "execution_count": 3,
   "id": "df6d3f4f-b853-4915-9688-554001f2e7d3",
   "metadata": {},
   "outputs": [
    {
     "name": "stdout",
     "output_type": "stream",
     "text": [
      "<class 'pandas.core.frame.DataFrame'>\n",
      "RangeIndex: 100 entries, 0 to 99\n",
      "Data columns (total 9 columns):\n",
      " #   Column             Non-Null Count  Dtype \n",
      "---  ------             --------------  ----- \n",
      " 0   Age                100 non-null    int64 \n",
      " 1   Gender             100 non-null    object\n",
      " 2   Marital Status     100 non-null    object\n",
      " 3   Education          100 non-null    object\n",
      " 4   Annual Income      100 non-null    int64 \n",
      " 5   Credit Score       100 non-null    int64 \n",
      " 6   Previous Defaults  100 non-null    int64 \n",
      " 7   Loan Purpose       100 non-null    object\n",
      " 8   Default            100 non-null    int64 \n",
      "dtypes: int64(5), object(4)\n",
      "memory usage: 7.2+ KB\n"
     ]
    }
   ],
   "source": [
    "# Display basic info about the dataset\n",
    "df.info()"
   ]
  },
  {
   "cell_type": "code",
   "execution_count": 4,
   "id": "32305243-0a7d-416f-8004-b54da9e9fe84",
   "metadata": {},
   "outputs": [
    {
     "data": {
      "text/html": [
       "<div>\n",
       "<style scoped>\n",
       "    .dataframe tbody tr th:only-of-type {\n",
       "        vertical-align: middle;\n",
       "    }\n",
       "\n",
       "    .dataframe tbody tr th {\n",
       "        vertical-align: top;\n",
       "    }\n",
       "\n",
       "    .dataframe thead th {\n",
       "        text-align: right;\n",
       "    }\n",
       "</style>\n",
       "<table border=\"1\" class=\"dataframe\">\n",
       "  <thead>\n",
       "    <tr style=\"text-align: right;\">\n",
       "      <th></th>\n",
       "      <th>Age</th>\n",
       "      <th>Gender</th>\n",
       "      <th>Marital Status</th>\n",
       "      <th>Education</th>\n",
       "      <th>Annual Income</th>\n",
       "      <th>Credit Score</th>\n",
       "      <th>Previous Defaults</th>\n",
       "      <th>Loan Purpose</th>\n",
       "      <th>Default</th>\n",
       "    </tr>\n",
       "  </thead>\n",
       "  <tbody>\n",
       "    <tr>\n",
       "      <th>0</th>\n",
       "      <td>59</td>\n",
       "      <td>Male</td>\n",
       "      <td>Single</td>\n",
       "      <td>Bachelor</td>\n",
       "      <td>31093</td>\n",
       "      <td>575</td>\n",
       "      <td>1</td>\n",
       "      <td>Business</td>\n",
       "      <td>0</td>\n",
       "    </tr>\n",
       "    <tr>\n",
       "      <th>1</th>\n",
       "      <td>49</td>\n",
       "      <td>Female</td>\n",
       "      <td>Single</td>\n",
       "      <td>Master</td>\n",
       "      <td>38070</td>\n",
       "      <td>508</td>\n",
       "      <td>0</td>\n",
       "      <td>Business</td>\n",
       "      <td>0</td>\n",
       "    </tr>\n",
       "    <tr>\n",
       "      <th>2</th>\n",
       "      <td>35</td>\n",
       "      <td>Female</td>\n",
       "      <td>Married</td>\n",
       "      <td>PhD</td>\n",
       "      <td>55777</td>\n",
       "      <td>573</td>\n",
       "      <td>0</td>\n",
       "      <td>Personal</td>\n",
       "      <td>1</td>\n",
       "    </tr>\n",
       "    <tr>\n",
       "      <th>3</th>\n",
       "      <td>28</td>\n",
       "      <td>Female</td>\n",
       "      <td>Single</td>\n",
       "      <td>High School</td>\n",
       "      <td>76958</td>\n",
       "      <td>752</td>\n",
       "      <td>0</td>\n",
       "      <td>Car</td>\n",
       "      <td>0</td>\n",
       "    </tr>\n",
       "    <tr>\n",
       "      <th>4</th>\n",
       "      <td>41</td>\n",
       "      <td>Male</td>\n",
       "      <td>Married</td>\n",
       "      <td>High School</td>\n",
       "      <td>102074</td>\n",
       "      <td>729</td>\n",
       "      <td>3</td>\n",
       "      <td>Business</td>\n",
       "      <td>0</td>\n",
       "    </tr>\n",
       "  </tbody>\n",
       "</table>\n",
       "</div>"
      ],
      "text/plain": [
       "   Age  Gender Marital Status    Education  Annual Income  Credit Score  \\\n",
       "0   59    Male         Single     Bachelor          31093           575   \n",
       "1   49  Female         Single       Master          38070           508   \n",
       "2   35  Female        Married          PhD          55777           573   \n",
       "3   28  Female         Single  High School          76958           752   \n",
       "4   41    Male        Married  High School         102074           729   \n",
       "\n",
       "   Previous Defaults Loan Purpose  Default  \n",
       "0                  1     Business        0  \n",
       "1                  0     Business        0  \n",
       "2                  0     Personal        1  \n",
       "3                  0          Car        0  \n",
       "4                  3     Business        0  "
      ]
     },
     "execution_count": 4,
     "metadata": {},
     "output_type": "execute_result"
    }
   ],
   "source": [
    "# Display the dataset\n",
    "\n",
    "df.head()"
   ]
  },
  {
   "cell_type": "code",
   "execution_count": 5,
   "id": "a4b19952-8617-404c-86dd-46ec854ed46d",
   "metadata": {},
   "outputs": [],
   "source": [
    "# Handling missing values (if any)\n",
    "df = df.dropna()"
   ]
  },
  {
   "cell_type": "code",
   "execution_count": 6,
   "id": "99c7ea6d-581d-40f5-bee2-a32111e793a6",
   "metadata": {},
   "outputs": [],
   "source": [
    "# Encoding categorical variables using pd.get_dummies()\n",
    "categorical_cols = ['Gender', 'Marital Status', 'Education', 'Loan Purpose']\n",
    "df_encoded = pd.get_dummies(df, columns=categorical_cols, drop_first=True)"
   ]
  },
  {
   "cell_type": "code",
   "execution_count": 7,
   "id": "26e022cb-5e48-47aa-8001-b9a326393f38",
   "metadata": {},
   "outputs": [
    {
     "data": {
      "text/html": [
       "<div>\n",
       "<style scoped>\n",
       "    .dataframe tbody tr th:only-of-type {\n",
       "        vertical-align: middle;\n",
       "    }\n",
       "\n",
       "    .dataframe tbody tr th {\n",
       "        vertical-align: top;\n",
       "    }\n",
       "\n",
       "    .dataframe thead th {\n",
       "        text-align: right;\n",
       "    }\n",
       "</style>\n",
       "<table border=\"1\" class=\"dataframe\">\n",
       "  <thead>\n",
       "    <tr style=\"text-align: right;\">\n",
       "      <th></th>\n",
       "      <th>Age</th>\n",
       "      <th>Annual Income</th>\n",
       "      <th>Credit Score</th>\n",
       "      <th>Previous Defaults</th>\n",
       "      <th>Default</th>\n",
       "      <th>Gender_Male</th>\n",
       "      <th>Marital Status_Married</th>\n",
       "      <th>Marital Status_Single</th>\n",
       "      <th>Education_High School</th>\n",
       "      <th>Education_Master</th>\n",
       "      <th>Education_PhD</th>\n",
       "      <th>Loan Purpose_Car</th>\n",
       "      <th>Loan Purpose_Home</th>\n",
       "      <th>Loan Purpose_Personal</th>\n",
       "    </tr>\n",
       "  </thead>\n",
       "  <tbody>\n",
       "    <tr>\n",
       "      <th>0</th>\n",
       "      <td>59</td>\n",
       "      <td>31093</td>\n",
       "      <td>575</td>\n",
       "      <td>1</td>\n",
       "      <td>0</td>\n",
       "      <td>True</td>\n",
       "      <td>False</td>\n",
       "      <td>True</td>\n",
       "      <td>False</td>\n",
       "      <td>False</td>\n",
       "      <td>False</td>\n",
       "      <td>False</td>\n",
       "      <td>False</td>\n",
       "      <td>False</td>\n",
       "    </tr>\n",
       "    <tr>\n",
       "      <th>1</th>\n",
       "      <td>49</td>\n",
       "      <td>38070</td>\n",
       "      <td>508</td>\n",
       "      <td>0</td>\n",
       "      <td>0</td>\n",
       "      <td>False</td>\n",
       "      <td>False</td>\n",
       "      <td>True</td>\n",
       "      <td>False</td>\n",
       "      <td>True</td>\n",
       "      <td>False</td>\n",
       "      <td>False</td>\n",
       "      <td>False</td>\n",
       "      <td>False</td>\n",
       "    </tr>\n",
       "    <tr>\n",
       "      <th>2</th>\n",
       "      <td>35</td>\n",
       "      <td>55777</td>\n",
       "      <td>573</td>\n",
       "      <td>0</td>\n",
       "      <td>1</td>\n",
       "      <td>False</td>\n",
       "      <td>True</td>\n",
       "      <td>False</td>\n",
       "      <td>False</td>\n",
       "      <td>False</td>\n",
       "      <td>True</td>\n",
       "      <td>False</td>\n",
       "      <td>False</td>\n",
       "      <td>True</td>\n",
       "    </tr>\n",
       "    <tr>\n",
       "      <th>3</th>\n",
       "      <td>28</td>\n",
       "      <td>76958</td>\n",
       "      <td>752</td>\n",
       "      <td>0</td>\n",
       "      <td>0</td>\n",
       "      <td>False</td>\n",
       "      <td>False</td>\n",
       "      <td>True</td>\n",
       "      <td>True</td>\n",
       "      <td>False</td>\n",
       "      <td>False</td>\n",
       "      <td>True</td>\n",
       "      <td>False</td>\n",
       "      <td>False</td>\n",
       "    </tr>\n",
       "    <tr>\n",
       "      <th>4</th>\n",
       "      <td>41</td>\n",
       "      <td>102074</td>\n",
       "      <td>729</td>\n",
       "      <td>3</td>\n",
       "      <td>0</td>\n",
       "      <td>True</td>\n",
       "      <td>True</td>\n",
       "      <td>False</td>\n",
       "      <td>True</td>\n",
       "      <td>False</td>\n",
       "      <td>False</td>\n",
       "      <td>False</td>\n",
       "      <td>False</td>\n",
       "      <td>False</td>\n",
       "    </tr>\n",
       "  </tbody>\n",
       "</table>\n",
       "</div>"
      ],
      "text/plain": [
       "   Age  Annual Income  Credit Score  Previous Defaults  Default  Gender_Male  \\\n",
       "0   59          31093           575                  1        0         True   \n",
       "1   49          38070           508                  0        0        False   \n",
       "2   35          55777           573                  0        1        False   \n",
       "3   28          76958           752                  0        0        False   \n",
       "4   41         102074           729                  3        0         True   \n",
       "\n",
       "   Marital Status_Married  Marital Status_Single  Education_High School  \\\n",
       "0                   False                   True                  False   \n",
       "1                   False                   True                  False   \n",
       "2                    True                  False                  False   \n",
       "3                   False                   True                   True   \n",
       "4                    True                  False                   True   \n",
       "\n",
       "   Education_Master  Education_PhD  Loan Purpose_Car  Loan Purpose_Home  \\\n",
       "0             False          False             False              False   \n",
       "1              True          False             False              False   \n",
       "2             False           True             False              False   \n",
       "3             False          False              True              False   \n",
       "4             False          False             False              False   \n",
       "\n",
       "   Loan Purpose_Personal  \n",
       "0                  False  \n",
       "1                  False  \n",
       "2                   True  \n",
       "3                  False  \n",
       "4                  False  "
      ]
     },
     "execution_count": 7,
     "metadata": {},
     "output_type": "execute_result"
    }
   ],
   "source": [
    "df_encoded.head()"
   ]
  },
  {
   "cell_type": "code",
   "execution_count": 8,
   "id": "e26522e1-0cf1-4bed-909d-3723c95350fe",
   "metadata": {},
   "outputs": [],
   "source": [
    "# Splitting dataset into features and labels; here axis = 1 column wise operation\n",
    "X = df_encoded.drop('Default', axis=1)\n",
    "y = df_encoded['Default']"
   ]
  },
  {
   "cell_type": "code",
   "execution_count": 9,
   "id": "762f770d-ee6b-46ee-b4b1-3a5bb394efac",
   "metadata": {},
   "outputs": [],
   "source": [
    "# Splitting the data into training and testing sets\n",
    "X_train, X_test, y_train, y_test = train_test_split(X, y, test_size=0.3, random_state=42)"
   ]
  },
  {
   "cell_type": "code",
   "execution_count": 10,
   "id": "d7ae920d-1e89-4506-bfbb-583b8efe7454",
   "metadata": {},
   "outputs": [],
   "source": [
    "# Scaling the numerical features\n",
    "scaler = StandardScaler()\n",
    "numerical_cols = ['Age', 'Annual Income', 'Credit Score', 'Previous Defaults']\n",
    "X_train[numerical_cols] = scaler.fit_transform(X_train[numerical_cols])\n",
    "X_test[numerical_cols] = scaler.transform(X_test[numerical_cols])"
   ]
  },
  {
   "cell_type": "markdown",
   "id": "1a07c790-f273-4115-b7e8-659d5fd3a902",
   "metadata": {},
   "source": [
    "### Logistic Regression"
   ]
  },
  {
   "cell_type": "code",
   "execution_count": 11,
   "id": "606759d9-5ea1-46ec-b1e7-835fef110d77",
   "metadata": {},
   "outputs": [
    {
     "data": {
      "text/html": [
       "<style>#sk-container-id-1 {color: black;}#sk-container-id-1 pre{padding: 0;}#sk-container-id-1 div.sk-toggleable {background-color: white;}#sk-container-id-1 label.sk-toggleable__label {cursor: pointer;display: block;width: 100%;margin-bottom: 0;padding: 0.3em;box-sizing: border-box;text-align: center;}#sk-container-id-1 label.sk-toggleable__label-arrow:before {content: \"▸\";float: left;margin-right: 0.25em;color: #696969;}#sk-container-id-1 label.sk-toggleable__label-arrow:hover:before {color: black;}#sk-container-id-1 div.sk-estimator:hover label.sk-toggleable__label-arrow:before {color: black;}#sk-container-id-1 div.sk-toggleable__content {max-height: 0;max-width: 0;overflow: hidden;text-align: left;background-color: #f0f8ff;}#sk-container-id-1 div.sk-toggleable__content pre {margin: 0.2em;color: black;border-radius: 0.25em;background-color: #f0f8ff;}#sk-container-id-1 input.sk-toggleable__control:checked~div.sk-toggleable__content {max-height: 200px;max-width: 100%;overflow: auto;}#sk-container-id-1 input.sk-toggleable__control:checked~label.sk-toggleable__label-arrow:before {content: \"▾\";}#sk-container-id-1 div.sk-estimator input.sk-toggleable__control:checked~label.sk-toggleable__label {background-color: #d4ebff;}#sk-container-id-1 div.sk-label input.sk-toggleable__control:checked~label.sk-toggleable__label {background-color: #d4ebff;}#sk-container-id-1 input.sk-hidden--visually {border: 0;clip: rect(1px 1px 1px 1px);clip: rect(1px, 1px, 1px, 1px);height: 1px;margin: -1px;overflow: hidden;padding: 0;position: absolute;width: 1px;}#sk-container-id-1 div.sk-estimator {font-family: monospace;background-color: #f0f8ff;border: 1px dotted black;border-radius: 0.25em;box-sizing: border-box;margin-bottom: 0.5em;}#sk-container-id-1 div.sk-estimator:hover {background-color: #d4ebff;}#sk-container-id-1 div.sk-parallel-item::after {content: \"\";width: 100%;border-bottom: 1px solid gray;flex-grow: 1;}#sk-container-id-1 div.sk-label:hover label.sk-toggleable__label {background-color: #d4ebff;}#sk-container-id-1 div.sk-serial::before {content: \"\";position: absolute;border-left: 1px solid gray;box-sizing: border-box;top: 0;bottom: 0;left: 50%;z-index: 0;}#sk-container-id-1 div.sk-serial {display: flex;flex-direction: column;align-items: center;background-color: white;padding-right: 0.2em;padding-left: 0.2em;position: relative;}#sk-container-id-1 div.sk-item {position: relative;z-index: 1;}#sk-container-id-1 div.sk-parallel {display: flex;align-items: stretch;justify-content: center;background-color: white;position: relative;}#sk-container-id-1 div.sk-item::before, #sk-container-id-1 div.sk-parallel-item::before {content: \"\";position: absolute;border-left: 1px solid gray;box-sizing: border-box;top: 0;bottom: 0;left: 50%;z-index: -1;}#sk-container-id-1 div.sk-parallel-item {display: flex;flex-direction: column;z-index: 1;position: relative;background-color: white;}#sk-container-id-1 div.sk-parallel-item:first-child::after {align-self: flex-end;width: 50%;}#sk-container-id-1 div.sk-parallel-item:last-child::after {align-self: flex-start;width: 50%;}#sk-container-id-1 div.sk-parallel-item:only-child::after {width: 0;}#sk-container-id-1 div.sk-dashed-wrapped {border: 1px dashed gray;margin: 0 0.4em 0.5em 0.4em;box-sizing: border-box;padding-bottom: 0.4em;background-color: white;}#sk-container-id-1 div.sk-label label {font-family: monospace;font-weight: bold;display: inline-block;line-height: 1.2em;}#sk-container-id-1 div.sk-label-container {text-align: center;}#sk-container-id-1 div.sk-container {/* jupyter's `normalize.less` sets `[hidden] { display: none; }` but bootstrap.min.css set `[hidden] { display: none !important; }` so we also need the `!important` here to be able to override the default hidden behavior on the sphinx rendered scikit-learn.org. See: https://github.com/scikit-learn/scikit-learn/issues/21755 */display: inline-block !important;position: relative;}#sk-container-id-1 div.sk-text-repr-fallback {display: none;}</style><div id=\"sk-container-id-1\" class=\"sk-top-container\"><div class=\"sk-text-repr-fallback\"><pre>LogisticRegression()</pre><b>In a Jupyter environment, please rerun this cell to show the HTML representation or trust the notebook. <br />On GitHub, the HTML representation is unable to render, please try loading this page with nbviewer.org.</b></div><div class=\"sk-container\" hidden><div class=\"sk-item\"><div class=\"sk-estimator sk-toggleable\"><input class=\"sk-toggleable__control sk-hidden--visually\" id=\"sk-estimator-id-1\" type=\"checkbox\" checked><label for=\"sk-estimator-id-1\" class=\"sk-toggleable__label sk-toggleable__label-arrow\">LogisticRegression</label><div class=\"sk-toggleable__content\"><pre>LogisticRegression()</pre></div></div></div></div></div>"
      ],
      "text/plain": [
       "LogisticRegression()"
      ]
     },
     "execution_count": 11,
     "metadata": {},
     "output_type": "execute_result"
    }
   ],
   "source": [
    "# Training a logistic regression model\n",
    "logreg = LogisticRegression()\n",
    "logreg.fit(X_train, y_train)"
   ]
  },
  {
   "cell_type": "code",
   "execution_count": 12,
   "id": "21bac2e6-94af-4bb4-a076-c623c164e97f",
   "metadata": {},
   "outputs": [],
   "source": [
    "# Making predictions on the test set\n",
    "y_pred = logreg.predict(X_test)\n"
   ]
  },
  {
   "cell_type": "code",
   "execution_count": 13,
   "id": "06df7244-014f-4e22-9daa-44d5089c72a1",
   "metadata": {},
   "outputs": [
    {
     "name": "stdout",
     "output_type": "stream",
     "text": [
      "Accuracy: 73.33 %\n",
      "\n",
      "Confusion Matrix:\n",
      " [[20  4]\n",
      " [ 4  2]]\n"
     ]
    }
   ],
   "source": [
    "# Evaluating the model\n",
    "print(\"Accuracy:\", round(accuracy_score(y_test, y_pred)*100,2), \"%\")\n",
    "print(\"\\nConfusion Matrix:\\n\", confusion_matrix(y_test, y_pred))"
   ]
  },
  {
   "cell_type": "code",
   "execution_count": 14,
   "id": "65ddc936-0561-4755-9395-942f4c1311ce",
   "metadata": {},
   "outputs": [],
   "source": [
    "# Function to input new customer data and make predictions\n",
    "def get_new_customer_data():\n",
    "    # Gather input from user for each feature\n",
    "    age = float(input(\"Enter Age: \"))\n",
    "    gender = input(\"Enter Gender (Male/Female): \")\n",
    "    marital_status = input(\"Enter Marital Status (Single/Married/Divorced): \")\n",
    "    education = input(\"Enter Education (High School/Bachelor/Master/PhD): \")\n",
    "    annual_income = float(input(\"Enter Annual Income: \"))\n",
    "    credit_score = float(input(\"Enter Credit Score: \"))\n",
    "    previous_defaults = int(input(\"Enter Previous Defaults: \"))\n",
    "    loan_purpose = input(\"Enter Loan Purpose (Home/Car/Business/Personal): \")\n",
    "\n",
    "    # Convert inputs into a DataFrame\n",
    "    new_data = pd.DataFrame({\n",
    "        'Age': [age],\n",
    "        'Annual Income': [annual_income],\n",
    "        'Credit Score': [credit_score],\n",
    "        'Previous Defaults': [previous_defaults],\n",
    "        'Gender': [gender],\n",
    "        'Marital Status': [marital_status],\n",
    "        'Education': [education],\n",
    "        'Loan Purpose': [loan_purpose]\n",
    "    })\n",
    "\n",
    "    # Apply get_dummies only to categorical columns\n",
    "    categorical_cols = ['Gender', 'Marital Status', 'Education', 'Loan Purpose']\n",
    "    new_data_encoded = pd.get_dummies(new_data, columns=categorical_cols, drop_first=True)\n",
    "\n",
    "    # Reindex to ensure all columns align with the trained model\n",
    "    missing_cols = set(X.columns) - set(new_data_encoded.columns)\n",
    "    for col in missing_cols:\n",
    "        new_data_encoded[col] = 0\n",
    "    new_data_encoded = new_data_encoded[X.columns]  # Ensure order of columns\n",
    "\n",
    "    # Scale the continuous variables\n",
    "    new_data_encoded[numerical_cols] = scaler.transform(new_data_encoded[numerical_cols])\n",
    "\n",
    "    return new_data_encoded"
   ]
  },
  {
   "cell_type": "code",
   "execution_count": 15,
   "id": "45715ae3-c1f9-48bd-aea7-dfbecc205d39",
   "metadata": {},
   "outputs": [],
   "source": [
    "# Function to predict risk and determine if credit should be granted\n",
    "def predict_credit_risk():\n",
    "    # Get new customer data\n",
    "    new_customer_data = get_new_customer_data()\n",
    "    \n",
    "    # Predict the risk\n",
    "    prediction = logreg.predict(new_customer_data)\n",
    "    risk_score = logreg.predict_proba(new_customer_data)[0][1]  # Probability of default\n",
    "    \n",
    "    # Output the results\n",
    "    print(f\"Prediction: {'Default' if prediction == 1 else 'No Default'}\")\n",
    "    print(f\"Risk Score (Probability of Default): {100*risk_score:.2f} %\")\n",
    "    \n",
    "    if prediction == 1:\n",
    "        print(\"Credit should NOT be granted due to high risk.\")\n",
    "    else:\n",
    "        print(\"Credit can be granted with low risk.\")\n"
   ]
  },
  {
   "cell_type": "code",
   "execution_count": 16,
   "id": "295497c0-0d3d-45cf-a197-bfbf89dc2a76",
   "metadata": {
    "scrolled": true
   },
   "outputs": [],
   "source": [
    "# Test the function with new customer input\n",
    "#predict_credit_risk()"
   ]
  },
  {
   "cell_type": "code",
   "execution_count": 17,
   "id": "7128b144-31ea-4599-8c14-47af0419dff6",
   "metadata": {},
   "outputs": [
    {
     "name": "stdout",
     "output_type": "stream",
     "text": [
      "Best Hyperparameters for Logistic Regression: {'C': 0.1, 'penalty': 'l1', 'solver': 'liblinear'}\n",
      "Accuracy: 80.0 %\n"
     ]
    }
   ],
   "source": [
    "from sklearn.model_selection import GridSearchCV\n",
    "\n",
    "# Define the parameter grid for Logistic Regression\n",
    "param_grid_log_reg = {\n",
    "    'penalty': ['l1', 'l2', 'elasticnet', 'none'],\n",
    "    'C': [0.1, 1, 10, 100],\n",
    "    'solver': ['liblinear', 'saga', 'lbfgs']\n",
    "}\n",
    "\n",
    "# Create the GridSearchCV object\n",
    "log_reg_cv = GridSearchCV(LogisticRegression(max_iter=500), param_grid_log_reg, cv=5, n_jobs=-1)\n",
    "log_reg_cv.fit(X_train, y_train)\n",
    "\n",
    "# Best parameters\n",
    "print(f\"Best Hyperparameters for Logistic Regression: {log_reg_cv.best_params_}\")\n",
    "\n",
    "# Predict and evaluate\n",
    "y_pred_log_reg_cv = log_reg_cv.predict(X_test)\n",
    "print(f\"Accuracy: {100*(accuracy_score(y_test, y_pred_log_reg_cv))} %\")"
   ]
  },
  {
   "cell_type": "markdown",
   "id": "6b2d8c1e-fd76-4559-88e5-2ae478b9697a",
   "metadata": {},
   "source": [
    "### Decision Tree Classifier"
   ]
  },
  {
   "cell_type": "code",
   "execution_count": 18,
   "id": "9a3419ce-e580-4858-9103-876addc81546",
   "metadata": {},
   "outputs": [
    {
     "name": "stdout",
     "output_type": "stream",
     "text": [
      "Accuracy: 56.666666666666664 %\n"
     ]
    }
   ],
   "source": [
    "from sklearn.tree import DecisionTreeClassifier\n",
    "\n",
    "# Decision Tree Classifier with default hyperparameters\n",
    "tree = DecisionTreeClassifier()\n",
    "tree.fit(X_train, y_train)\n",
    "\n",
    "# Predict and evaluate\n",
    "y_pred_tree = tree.predict(X_test)\n",
    "print(f\"Accuracy: {100*(accuracy_score(y_test, y_pred_tree))} %\")"
   ]
  },
  {
   "cell_type": "code",
   "execution_count": 19,
   "id": "d3fc7d57-83cb-4aae-93d9-9b8ce31dc0d2",
   "metadata": {},
   "outputs": [
    {
     "name": "stdout",
     "output_type": "stream",
     "text": [
      "Best Hyperparameters for Decision Tree: {'criterion': 'entropy', 'max_depth': 3, 'min_samples_leaf': 5, 'min_samples_split': 20}\n",
      "Accuracy: 60.0 %\n"
     ]
    }
   ],
   "source": [
    "# Define the parameter grid for Decision Tree\n",
    "param_grid_tree = {\n",
    "    'criterion': ['gini', 'entropy'],\n",
    "    'max_depth': [3, 5, 10, 20, None],\n",
    "    'min_samples_split': [2, 10, 20],\n",
    "    'min_samples_leaf': [1, 5, 10]\n",
    "}\n",
    "\n",
    "# Create the GridSearchCV object\n",
    "tree_cv = GridSearchCV(DecisionTreeClassifier(), param_grid_tree, cv=5, n_jobs=-1)\n",
    "tree_cv.fit(X_train, y_train)\n",
    "\n",
    "# Best parameters\n",
    "print(f\"Best Hyperparameters for Decision Tree: {tree_cv.best_params_}\")\n",
    "\n",
    "# Predict and evaluate\n",
    "y_pred_tree_cv = tree_cv.predict(X_test)\n",
    "print(f\"Accuracy: {100*(accuracy_score(y_test, y_pred_tree_cv))} %\")"
   ]
  },
  {
   "cell_type": "markdown",
   "id": "83f1728f-80fe-45e0-99de-0e14db7231c0",
   "metadata": {},
   "source": [
    "### Random Forest Classifier"
   ]
  },
  {
   "cell_type": "code",
   "execution_count": 20,
   "id": "684c77ba-032b-44d7-9724-4588b1457a80",
   "metadata": {},
   "outputs": [
    {
     "name": "stdout",
     "output_type": "stream",
     "text": [
      "Accuracy: 63.33333333333333 %\n"
     ]
    }
   ],
   "source": [
    "from sklearn.ensemble import RandomForestClassifier\n",
    "\n",
    "# Random Forest Classifier with default hyperparameters\n",
    "rf = RandomForestClassifier()\n",
    "rf.fit(X_train, y_train)\n",
    "\n",
    "# Predict and evaluate\n",
    "y_pred_rf = rf.predict(X_test)\n",
    "print(f\"Accuracy: {100*(accuracy_score(y_test, y_pred_rf))} %\")"
   ]
  },
  {
   "cell_type": "code",
   "execution_count": 22,
   "id": "2611f495-fcc4-43ca-9b43-e9d8a6aedb38",
   "metadata": {},
   "outputs": [
    {
     "name": "stdout",
     "output_type": "stream",
     "text": [
      "Best Hyperparameters for Random Forest: {'criterion': 'gini', 'max_depth': 10, 'min_samples_leaf': 1, 'min_samples_split': 5, 'n_estimators': 10}\n",
      "Accuracy: 0.5666666666666667\n",
      "              precision    recall  f1-score   support\n",
      "\n",
      "           0       0.76      0.67      0.71        24\n",
      "           1       0.11      0.17      0.13         6\n",
      "\n",
      "    accuracy                           0.57        30\n",
      "   macro avg       0.44      0.42      0.42        30\n",
      "weighted avg       0.63      0.57      0.60        30\n",
      "\n"
     ]
    }
   ],
   "source": [
    "# Define the parameter grid for Random Forest\n",
    "param_grid_rf = {\n",
    "    'n_estimators': [10, 50, 100, 200], # no of trees -> n_estimators\n",
    "    'criterion': ['gini', 'entropy'],\n",
    "    'max_depth': [None, 10, 20, 30],\n",
    "    'min_samples_split': [2, 5, 10],\n",
    "    'min_samples_leaf': [1, 2, 4]\n",
    "}\n",
    "\n",
    "# Create the GridSearchCV object\n",
    "rf_cv = GridSearchCV(RandomForestClassifier(), param_grid_rf, cv=5, n_jobs=-1)\n",
    "rf_cv.fit(X_train, y_train)\n",
    "\n",
    "# Best parameters\n",
    "print(f\"Best Hyperparameters for Random Forest: {rf_cv.best_params_}\")\n",
    "\n",
    "# Predict and evaluate\n",
    "y_pred_rf_cv = rf_cv.predict(X_test)\n",
    "print(f\"Accuracy: {accuracy_score(y_test, y_pred_rf_cv)}\")\n",
    "print(classification_report(y_test, y_pred_rf_cv))\n"
   ]
  },
  {
   "cell_type": "markdown",
   "id": "0c5884ca-435f-42e8-be24-1bbaba4d770f",
   "metadata": {},
   "source": [
    "### Support Vector Machine"
   ]
  },
  {
   "cell_type": "code",
   "execution_count": 23,
   "id": "2956cb59-5724-4dba-b72b-7d33363b063f",
   "metadata": {},
   "outputs": [
    {
     "name": "stdout",
     "output_type": "stream",
     "text": [
      "Accuracy: 76.66666666666667\n"
     ]
    }
   ],
   "source": [
    "from sklearn.svm import SVC\n",
    "\n",
    "# SVM with default hyperparameters\n",
    "svm_model = SVC()\n",
    "svm_model.fit(X_train, y_train)\n",
    "\n",
    "# Predict and evaluate\n",
    "y_pred_svm = svm_model.predict(X_test)\n",
    "print(f\"Accuracy: {100*(accuracy_score(y_test, y_pred_svm))}\")"
   ]
  },
  {
   "cell_type": "code",
   "execution_count": 24,
   "id": "5fa09710-7a40-4a52-a950-b9059c6ca62a",
   "metadata": {},
   "outputs": [
    {
     "name": "stdout",
     "output_type": "stream",
     "text": [
      "Best Hyperparameters for SVM: {'C': 10, 'gamma': 'scale', 'kernel': 'poly'}\n",
      "Accuracy: 76.66666666666667\n"
     ]
    }
   ],
   "source": [
    "# Define the parameter grid for SVM\n",
    "param_grid_svm = {\n",
    "    'C': [0.1, 1, 10, 100],\n",
    "    'kernel': ['linear', 'poly', 'rbf', 'sigmoid'],\n",
    "    'gamma': ['scale', 'auto']\n",
    "}\n",
    "\n",
    "# Create the GridSearchCV object\n",
    "svm_cv = GridSearchCV(SVC(), param_grid_svm, cv=5, n_jobs=-1)\n",
    "svm_cv.fit(X_train, y_train)\n",
    "\n",
    "# Best parameters\n",
    "print(f\"Best Hyperparameters for SVM: {svm_cv.best_params_}\")\n",
    "\n",
    "# Predict and evaluate\n",
    "y_pred_svm_cv = svm_cv.predict(X_test)\n",
    "print(f\"Accuracy: {100*(accuracy_score(y_test, y_pred_svm))}\")\n"
   ]
  },
  {
   "cell_type": "code",
   "execution_count": null,
   "id": "91e6006a",
   "metadata": {},
   "outputs": [],
   "source": []
  }
 ],
 "metadata": {
  "kernelspec": {
   "display_name": "Python 3 (ipykernel)",
   "language": "python",
   "name": "python3"
  },
  "language_info": {
   "codemirror_mode": {
    "name": "ipython",
    "version": 3
   },
   "file_extension": ".py",
   "mimetype": "text/x-python",
   "name": "python",
   "nbconvert_exporter": "python",
   "pygments_lexer": "ipython3",
   "version": "3.11.5"
  }
 },
 "nbformat": 4,
 "nbformat_minor": 5
}
